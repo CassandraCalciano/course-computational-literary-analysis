{
 "cells": [
  {
   "cell_type": "markdown",
   "metadata": {},
   "source": [
    "# Homework 3\n",
    "\n",
    "## Your name here\n",
    "\n",
    "Instructions: \n",
    "\n",
    " 1. Please replace \"Yourname\" above, and in the title of this notebook. \n",
    " 2. Import all the libraries you end up using in the cell below. Please only use those libraries which we have used in class (i.e. nltk, collections, pandas, etc.). \n",
    " 3. Complete all the exercises, replacing \"enter code here\" with your code, and \"enter markdown here\" with your markdown. Annotate with comments (lines beginning with `#`) or with markdown cells, to show how you arrived at your answers.  \n",
    " 4. **From the Kernel menu, select \"restart and run all.\" This is important! This will help me to see the output of your answers.** \n",
    " 5. Email me your completed notebook: jonathan.reeve@columbia.edu\n"
   ]
  },
  {
   "cell_type": "code",
   "execution_count": 11,
   "metadata": {},
   "outputs": [],
   "source": [
    "# Import your libraries here. "
   ]
  },
  {
   "cell_type": "markdown",
   "metadata": {},
   "source": [
    "### 1. Write a function to find the longest word in a text. Use that function to find the longest word in _The Moonstone_, in _The Garden Party and Other Stories_, and in one other text of your choosing. \n",
    "\n",
    "You're free to define a \"word\" however you like, so long as you justify your definition below.\n",
    "\n",
    "**Nota bene**: write an actual function, not just a code cell. "
   ]
  },
  {
   "cell_type": "code",
   "execution_count": null,
   "metadata": {},
   "outputs": [],
   "source": [
    "# Enter code here. "
   ]
  },
  {
   "cell_type": "markdown",
   "metadata": {},
   "source": [
    "### 2. Write a function to find the longest sentence in a text, calculated by number of words, and use that function to find the longest sentence in *The Moonstone* or *The Garden Party and Other Stories*. \n",
    "\n",
    "Then, in a markdown cell, explain what voice, character, or narrator is responsible for the sentence (i.e., who says it, and why). Why is it so long? And what else do you notice? That is, what characteristics do long sentences have, that short sentences don't? "
   ]
  },
  {
   "cell_type": "code",
   "execution_count": null,
   "metadata": {},
   "outputs": [],
   "source": [
    "# Enter code here. "
   ]
  },
  {
   "cell_type": "markdown",
   "metadata": {},
   "source": [
    "Enter markdown here."
   ]
  },
  {
   "cell_type": "markdown",
   "metadata": {},
   "source": [
    "### 3. Choose a narrator from *The Moonstone*, and find that narrator's distinctive words. Then, in a markdown cell, write a paragraph about what you notice, especially how it may reveal that narrator's personality. "
   ]
  },
  {
   "cell_type": "code",
   "execution_count": null,
   "metadata": {},
   "outputs": [],
   "source": [
    "# Enter code here."
   ]
  },
  {
   "cell_type": "markdown",
   "metadata": {},
   "source": [
    "Enter markdown here. "
   ]
  },
  {
   "cell_type": "markdown",
   "metadata": {},
   "source": [
    "### 4. Find the Katherine Mansfield story, or the narrator of _The Moonstone_, with the highest proportion of adverbs. What are some of those adverbs, and how are they used in context?\n",
    "\n",
    "Make sure these are proportions of adverbs (i.e., adjusted for the total number of words). \n",
    "\n",
    "To get their context, you might want to run a concordance. "
   ]
  },
  {
   "cell_type": "code",
   "execution_count": null,
   "metadata": {},
   "outputs": [],
   "source": [
    "# Enter code here. "
   ]
  },
  {
   "cell_type": "markdown",
   "metadata": {},
   "source": [
    "### 5. Using an n-value of your choosing, find and compare the most frequent n-grams across texts in a corpus. Write about any trends you notice. \n",
    "\n",
    "You might want to look at trigrams, or 5-grams, or 7-grams. You may also find it useful to remove punctuation, or clean the text in some other way.\n",
    "\n",
    "Corpora you might want to use might include: \n",
    "\n",
    " - Narrators of _The Moonstone_\n",
    " - Categories of the Brown Corpus (in the NLTK)\n",
    " - Texts from the Gutenberg corpus (in the NLTK) \n",
    " - Biden and Trump transcriptions from the 2020 presidential debates"
   ]
  },
  {
   "cell_type": "code",
   "execution_count": null,
   "metadata": {},
   "outputs": [],
   "source": [
    "# Enter code here. "
   ]
  },
  {
   "cell_type": "markdown",
   "metadata": {},
   "source": [
    "Enter markdown prose here. "
   ]
  },
  {
   "cell_type": "markdown",
   "metadata": {},
   "source": [
    "### 6. Find a pattern, of 2-5 words, at least one of which is a part of speech, that occurs at least thrice in _The Moonstone_. For example, you might look for JJS-NN (superlative - noun), very-JJ-NNP (\"very\" - adjective - proper noun), or '.'-CC (a period followed by a coordinating conjunction). What do you notice about your findings?"
   ]
  },
  {
   "cell_type": "code",
   "execution_count": null,
   "metadata": {},
   "outputs": [],
   "source": [
    "# Enter code here. "
   ]
  },
  {
   "cell_type": "markdown",
   "metadata": {},
   "source": [
    "Enter markdown prose here. "
   ]
  },
  {
   "cell_type": "markdown",
   "metadata": {},
   "source": [
    "### 7. Write 2-3 paragraphs where you describe one or two ideas for a final project. What text(s) will you analyze? What technologies will you use? What literary questions do you hope to answer? This doesn't have to be your final decision. "
   ]
  },
  {
   "cell_type": "markdown",
   "metadata": {},
   "source": [
    "Enter your markdown here. "
   ]
  },
  {
   "cell_type": "markdown",
   "metadata": {},
   "source": [
    "### 8. Choose **one** of the following mini-projects to complete. Make sure that in each case, you discuss your results in well-formatted markdown.  \n",
    "\n",
    "(This question is worth three points. But again, please complete only **one** of the mini-projects below.)\n",
    "\n",
    "1. Make a big list of color words using WordNet, and then use that to find the predominant color of \"The Garden Party,\" in terms of color words. Then, in one paragraph, interpret your results in terms of the story. Make a visualization of your results. (You can get the colors right with something like pandas `DataFrame.plot(kind=\"pie\", colormap=\"your-colors-here\")`. You might have to read a little about how to use color maps.)\n",
    "\n",
    "2. Make a function to calculate the ratio of male pronouns to female pronouns. Then use that to test the male/female pronoun ratio of each narrator of *The Moonstone*, or of each of Katherine Mansfield's stories. Create a chart with your results. Then write a paragraph where you interpret these results.\n",
    "\n",
    "3. Calculate how proportions of parts of speech are different for each narrator in _The Moonstone_. Do any narrators stand out in their usage of certain parts of speech? Discuss your results, and support your findings with a few examples from the text. Create a bar chart with your results. \n",
    "\n",
    "4. Categorize the nouns (or verbs, or another POS) of _The Moonstone_, by getting their WordNet hypernyms. (Hint: you can get more specific results than just \"entity\" by stopping at a pre-specified `max_depth` or `min_depth`.) Create a visualization with your results. What trends do you notice here?\n",
    "\n",
    "5. Download a few more Collins novels, either manually or programmatically, using [corpus-db.org](http://corpus-db.org). What are the words that appear in _The Moonstone_ more than other novels of Collins's? (Be sure to use frequencies, rather than raw counts.) If you disregard proper names ('NNP' in terms of POS), what are the remaining distinctive words? "
   ]
  },
  {
   "cell_type": "code",
   "execution_count": 1,
   "metadata": {},
   "outputs": [],
   "source": [
    "# Write your code here. "
   ]
  },
  {
   "cell_type": "markdown",
   "metadata": {},
   "source": [
    "### Bonus: Analyze your own annotations from _The Moonstone_, using any of the techniques we've learned. \n",
    "\n",
    "See [the annotation-analysis.ipynb notebook from the course repository](https://github.com/JonathanReeve/course-computational-literary-analysis/blob/master/Meta/annotation-analysis.ipynb) for an example of how to extract the text from Hypothes.is. \n",
    "\n",
    "Here are some ideas for things you could do: \n",
    "\n",
    " - A stylistic comparison of your annotations with those of your classmates. Who do write like?\n",
    " - What words do you use that no one else does? What words do others use that you don't? \n",
    " - What is the part of speech that you use more than everyone else? Less?"
   ]
  },
  {
   "cell_type": "code",
   "execution_count": 1,
   "metadata": {},
   "outputs": [],
   "source": [
    "# Enter code here. "
   ]
  }
 ],
 "metadata": {
  "kernelspec": {
   "display_name": "Python 3 (ipykernel)",
   "language": "python",
   "name": "python3"
  },
  "language_info": {
   "codemirror_mode": {
    "name": "ipython",
    "version": 3
   },
   "file_extension": ".py",
   "mimetype": "text/x-python",
   "name": "python",
   "nbconvert_exporter": "python",
   "pygments_lexer": "ipython3",
   "version": "3.9.12"
  }
 },
 "nbformat": 4,
 "nbformat_minor": 4
}
